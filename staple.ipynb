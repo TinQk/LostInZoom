{
  "nbformat": 4,
  "nbformat_minor": 0,
  "metadata": {
    "colab": {
      "provenance": [],
      "machine_shape": "hm"
    },
    "kernelspec": {
      "name": "python3",
      "display_name": "Python 3"
    },
    "language_info": {
      "name": "python"
    }
  },
  "cells": [
    {
      "cell_type": "markdown",
      "source": [
        "In Python, STAPLE is available through SimpleITK.\n",
        "\n",
        "Reference: https://towardsdatascience.com/how-to-use-the-staple-algorithm-to-combine-multiple-image-segmentations-ce91ebeb451e\n"
      ],
      "metadata": {
        "id": "3q0U7fBecXB5"
      }
    },
    {
      "cell_type": "markdown",
      "source": [
        "## Packages"
      ],
      "metadata": {
        "id": "Ww0fv6KiPOe6"
      }
    },
    {
      "cell_type": "code",
      "execution_count": null,
      "metadata": {
        "colab": {
          "base_uri": "https://localhost:8080/"
        },
        "id": "865omu1YcOhU",
        "outputId": "c5fe949b-f251-402c-a032-f739a5e9e8c3"
      },
      "outputs": [
        {
          "output_type": "stream",
          "name": "stdout",
          "text": [
            "Collecting SimpleITK\n",
            "  Downloading SimpleITK-2.4.1-cp311-abi3-manylinux_2_17_x86_64.manylinux2014_x86_64.whl.metadata (7.9 kB)\n",
            "Downloading SimpleITK-2.4.1-cp311-abi3-manylinux_2_17_x86_64.manylinux2014_x86_64.whl (52.3 MB)\n",
            "\u001b[2K   \u001b[90m━━━━━━━━━━━━━━━━━━━━━━━━━━━━━━━━━━━━━━━━\u001b[0m \u001b[32m52.3/52.3 MB\u001b[0m \u001b[31m30.4 MB/s\u001b[0m eta \u001b[36m0:00:00\u001b[0m\n",
            "\u001b[?25hInstalling collected packages: SimpleITK\n",
            "Successfully installed SimpleITK-2.4.1\n"
          ]
        }
      ],
      "source": [
        "!pip install SimpleITK"
      ]
    },
    {
      "cell_type": "code",
      "source": [
        "import SimpleITK as sitk # https://simpleitk.org/\n",
        "from matplotlib import pyplot as plt\n",
        "import os\n",
        "import numpy as np\n",
        "from PIL import Image"
      ],
      "metadata": {
        "id": "TcaSEyytcYOo"
      },
      "execution_count": null,
      "outputs": []
    },
    {
      "cell_type": "code",
      "source": [
        "from google.colab import drive\n",
        "drive.mount('/content/drive/')"
      ],
      "metadata": {
        "colab": {
          "base_uri": "https://localhost:8080/"
        },
        "id": "SNgQexqRi7zM",
        "outputId": "a2de1252-3e25-4091-c4da-ce90ab94b741"
      },
      "execution_count": null,
      "outputs": [
        {
          "output_type": "stream",
          "name": "stdout",
          "text": [
            "Mounted at /content/drive/\n"
          ]
        }
      ]
    },
    {
      "cell_type": "markdown",
      "source": [
        "## Params"
      ],
      "metadata": {
        "id": "yuUN9__-PeiE"
      }
    },
    {
      "cell_type": "code",
      "source": [
        "PROJECT_PATH = '/content/drive/MyDrive/Colab Notebooks/landmark_segmentation/eval/'\n",
        "IMG_PATH = PROJECT_PATH+ 'base_images/'\n",
        "MSK_PATH = PROJECT_PATH + 'masks/'\n",
        "STAPLE_PATH = PROJECT_PATH + 'staple/'\n",
        "STAPLE_BIN_PATH = PROJECT_PATH + 'staple_bin/'"
      ],
      "metadata": {
        "id": "88qHd0ytdfgx"
      },
      "execution_count": null,
      "outputs": []
    },
    {
      "cell_type": "code",
      "source": [
        "type_filters = ['artificial', 'transport', 'urban', 'water', 'nature', 'all']\n",
        "zone_filters = ['zone01', 'zone02', 'zone03', 'zone04', 'zone05', 'zone06', 'zone07', 'zone08', 'zone09', 'zone10',\n",
        "                'zone11', 'zone12', 'zone13', 'zone14', 'zone15', 'zone16', 'zone17', 'zone18', 'zone19', 'zone20']"
      ],
      "metadata": {
        "id": "-YH-r5VoyNqo"
      },
      "execution_count": null,
      "outputs": []
    },
    {
      "cell_type": "markdown",
      "source": [
        "## Preprocessing"
      ],
      "metadata": {
        "id": "UgG_-ZyNR645"
      }
    },
    {
      "cell_type": "code",
      "source": [
        "# My masks are in LA format (with transparency), so I need to convert them to a Numpy array with PIL\n",
        "def itk_readmask(mask_path):\n",
        "  # Load the image using PIL and convert it to a NumPy array\n",
        "  pil_image = Image.open(mask_path).convert('L')  # 'L' mode for 8-bit grayscale\n",
        "  image_array = np.array(pil_image)\n",
        "  # Create a SimpleITK image from the NumPy array\n",
        "  return sitk.GetImageFromArray(image_array)"
      ],
      "metadata": {
        "id": "63G5JBYRYfnI"
      },
      "execution_count": null,
      "outputs": []
    },
    {
      "cell_type": "code",
      "source": [
        "# Annotation inputs for the STAPLE algorithm need to be binary\n",
        "def binarize_sitk(image):\n",
        "    return sitk.BinaryThreshold(image, lowerThreshold=1, upperThreshold=255, insideValue=1, outsideValue=0)"
      ],
      "metadata": {
        "id": "gv0KwyFPZ_qs"
      },
      "execution_count": null,
      "outputs": []
    },
    {
      "cell_type": "markdown",
      "source": [
        "## STAPLE"
      ],
      "metadata": {
        "id": "4tVfYC3HyJzV"
      }
    },
    {
      "cell_type": "code",
      "source": [
        "# This function allow to filter the image and mask names\n",
        "def filter_names(im_names, keyword):\n",
        "  return [name for name in im_names if keyword in name]"
      ],
      "metadata": {
        "id": "6I1Ynjvmw9wh"
      },
      "execution_count": null,
      "outputs": []
    },
    {
      "cell_type": "code",
      "source": [
        "\n",
        "def apply_staple(annotation_paths):\n",
        "    annotations = []\n",
        "    for annotation_path in annotation_paths:\n",
        "        annot = itk_readmask(annotation_path)\n",
        "        annot = binarize_sitk(annot)\n",
        "        annotations.append(annot)\n",
        "    # Apply STAPLE algorithm\n",
        "    staple_filter = sitk.STAPLEImageFilter()\n",
        "    staple_filter.SetForegroundValue(1) # input segmentations consist of 1's everywhere inside the segmented region\n",
        "    consensus_segmentation = staple_filter.Execute(annotations)\n",
        "    return consensus_segmentation"
      ],
      "metadata": {
        "id": "yXkO41iyacjj"
      },
      "execution_count": null,
      "outputs": []
    },
    {
      "cell_type": "code",
      "source": [
        "def compute_staple(annot_folder, output_folder, type_filters, zone_filters):\n",
        "  annot_names = os.listdir(annot_folder)\n",
        "  # For each zone and each anchor type\n",
        "  for z in zone_filters:\n",
        "      for t in type_filters:\n",
        "          # filter annotations\n",
        "          annot_filtered = filter_names(annot_names, z)\n",
        "          annot_filtered = filter_names(annot_filtered, t)\n",
        "          paths = [annot_folder + name for name in annot_filtered]\n",
        "          # apply staple\n",
        "          consensus_segmentation = apply_staple(paths)\n",
        "          # convert from float between 0 and 1 to UInt8 between 0 and 255\n",
        "          consensus_segmentation = consensus_segmentation * 255\n",
        "          consensus_segmentation = sitk.Cast(consensus_segmentation, sitk.sitkUInt8)\n",
        "          # save consensus as png in output_folder\n",
        "          sitk.WriteImage(consensus_segmentation, output_folder + z + '_' + t + '.png')\n",
        "          print(f\"Done {z}_{t}\")\n"
      ],
      "metadata": {
        "id": "S8tMUzfbIewS"
      },
      "execution_count": null,
      "outputs": []
    },
    {
      "cell_type": "code",
      "source": [
        "compute_staple(MSK_PATH, STAPLE_PATH, type_filters, zone_filters)"
      ],
      "metadata": {
        "colab": {
          "base_uri": "https://localhost:8080/"
        },
        "id": "pSNaA575KSK8",
        "outputId": "aad96dd3-39b9-4b9a-9dc5-e153fd5daf7c"
      },
      "execution_count": null,
      "outputs": [
        {
          "output_type": "stream",
          "name": "stdout",
          "text": [
            "Done zone01_artificial\n",
            "Done zone01_transport\n",
            "Done zone01_urban\n",
            "Done zone01_water\n",
            "Done zone01_nature\n",
            "Done zone01_all\n",
            "Done zone02_artificial\n",
            "Done zone02_transport\n",
            "Done zone02_urban\n",
            "Done zone02_water\n",
            "Done zone02_nature\n",
            "Done zone02_all\n",
            "Done zone03_artificial\n",
            "Done zone03_transport\n",
            "Done zone03_urban\n",
            "Done zone03_water\n",
            "Done zone03_nature\n",
            "Done zone03_all\n",
            "Done zone04_artificial\n",
            "Done zone04_transport\n",
            "Done zone04_urban\n",
            "Done zone04_water\n",
            "Done zone04_nature\n",
            "Done zone04_all\n",
            "Done zone05_artificial\n",
            "Done zone05_transport\n",
            "Done zone05_urban\n",
            "Done zone05_water\n",
            "Done zone05_nature\n",
            "Done zone05_all\n",
            "Done zone06_artificial\n",
            "Done zone06_transport\n",
            "Done zone06_urban\n",
            "Done zone06_water\n",
            "Done zone06_nature\n",
            "Done zone06_all\n",
            "Done zone07_artificial\n",
            "Done zone07_transport\n",
            "Done zone07_urban\n",
            "Done zone07_water\n",
            "Done zone07_nature\n",
            "Done zone07_all\n",
            "Done zone08_artificial\n",
            "Done zone08_transport\n",
            "Done zone08_urban\n",
            "Done zone08_water\n",
            "Done zone08_nature\n",
            "Done zone08_all\n",
            "Done zone09_artificial\n",
            "Done zone09_transport\n",
            "Done zone09_urban\n",
            "Done zone09_water\n",
            "Done zone09_nature\n",
            "Done zone09_all\n",
            "Done zone10_artificial\n",
            "Done zone10_transport\n",
            "Done zone10_urban\n",
            "Done zone10_water\n",
            "Done zone10_nature\n",
            "Done zone10_all\n",
            "Done zone11_artificial\n",
            "Done zone11_transport\n",
            "Done zone11_urban\n",
            "Done zone11_water\n",
            "Done zone11_nature\n",
            "Done zone11_all\n",
            "Done zone12_artificial\n",
            "Done zone12_transport\n",
            "Done zone12_urban\n",
            "Done zone12_water\n",
            "Done zone12_nature\n",
            "Done zone12_all\n",
            "Done zone13_artificial\n",
            "Done zone13_transport\n",
            "Done zone13_urban\n",
            "Done zone13_water\n",
            "Done zone13_nature\n",
            "Done zone13_all\n",
            "Done zone14_artificial\n",
            "Done zone14_transport\n",
            "Done zone14_urban\n",
            "Done zone14_water\n",
            "Done zone14_nature\n",
            "Done zone14_all\n",
            "Done zone15_artificial\n",
            "Done zone15_transport\n",
            "Done zone15_urban\n",
            "Done zone15_water\n",
            "Done zone15_nature\n",
            "Done zone15_all\n",
            "Done zone16_artificial\n",
            "Done zone16_transport\n",
            "Done zone16_urban\n",
            "Done zone16_water\n",
            "Done zone16_nature\n",
            "Done zone16_all\n",
            "Done zone17_artificial\n",
            "Done zone17_transport\n",
            "Done zone17_urban\n",
            "Done zone17_water\n",
            "Done zone17_nature\n",
            "Done zone17_all\n",
            "Done zone18_artificial\n",
            "Done zone18_transport\n",
            "Done zone18_urban\n",
            "Done zone18_water\n",
            "Done zone18_nature\n",
            "Done zone18_all\n",
            "Done zone19_artificial\n",
            "Done zone19_transport\n",
            "Done zone19_urban\n",
            "Done zone19_water\n",
            "Done zone19_nature\n",
            "Done zone19_all\n",
            "Done zone20_artificial\n",
            "Done zone20_transport\n",
            "Done zone20_urban\n",
            "Done zone20_water\n",
            "Done zone20_nature\n",
            "Done zone20_all\n"
          ]
        }
      ]
    },
    {
      "cell_type": "markdown",
      "source": [
        "## Evaluation"
      ],
      "metadata": {
        "id": "DzxEuAnQuo_I"
      }
    },
    {
      "cell_type": "code",
      "source": [
        "def visualize_sitk_image(sitk_image, title=\"Image\"):\n",
        "    # Convert ITK image to a NumPy array for visualization\n",
        "    image_array = sitk.GetArrayViewFromImage(sitk_image)\n",
        "    # Visualize the image using matplotlib\n",
        "    plt.imshow(image_array, cmap='gray')\n",
        "    plt.title(title)\n",
        "    plt.axis('off')\n",
        "    plt.show()"
      ],
      "metadata": {
        "id": "UDo_7H8IdYDP"
      },
      "execution_count": null,
      "outputs": []
    },
    {
      "cell_type": "code",
      "source": [
        "def plot_histogram(image):\n",
        "    image_array = sitk.GetArrayFromImage(image)*255\n",
        "    plt.hist(image_array.ravel(), bins=range(int(np.max(image_array)) + 2), align='left')\n",
        "    plt.title('Histogram of Segmentation Values')\n",
        "    plt.xlabel('Value')\n",
        "    plt.ylabel('Frequency')\n",
        "    plt.show()"
      ],
      "metadata": {
        "id": "71G1WAooPvL9"
      },
      "execution_count": null,
      "outputs": []
    },
    {
      "cell_type": "markdown",
      "source": [
        "## Threshold to get binary staple"
      ],
      "metadata": {
        "id": "Ehd1cHSevQx6"
      }
    },
    {
      "cell_type": "code",
      "source": [
        "# for each image in staple folder, use a threshold to convert values to 0 if under 250 and 255 else\n",
        "\n",
        "for file in os.listdir(STAPLE_PATH):\n",
        "    # open image with PIL\n",
        "    pil_image = Image.open(STAPLE_PATH + file).convert('L')  # 'L' mode for 8-bit grayscale\n",
        "    # convert all pixel values inferior to 100 to 0 and above to 255\n",
        "    pil_image = pil_image.point(lambda x: 0 if x < 127 else 255)\n",
        "    # save in staple_bin folder\n",
        "    pil_image.save(STAPLE_BIN_PATH + file)"
      ],
      "metadata": {
        "id": "i5yqeEakvT6Y"
      },
      "execution_count": null,
      "outputs": []
    },
    {
      "cell_type": "markdown",
      "source": [
        "## Eval staple binary"
      ],
      "metadata": {
        "id": "IYdRf_uZXzPl"
      }
    },
    {
      "cell_type": "code",
      "source": [
        "image_path = \"/content/drive/MyDrive/Colab Notebooks/landmark_segmentation/eval/staple_bin/zone01_all.png\"  # Replace with the actual path\n",
        "image = Image.open(image_path).convert('L')  # Open in grayscale mode\n",
        "image_np = np.array(image)  # Convert to NumPy array"
      ],
      "metadata": {
        "id": "qWlRfaoKgmv5"
      },
      "execution_count": null,
      "outputs": []
    },
    {
      "cell_type": "code",
      "source": [
        "unique_values = np.unique(image_np)\n",
        "print(unique_values)"
      ],
      "metadata": {
        "colab": {
          "base_uri": "https://localhost:8080/"
        },
        "id": "qejpysIIhenM",
        "outputId": "30bdbe05-07ef-4533-8e6d-eedfaf63f7cf"
      },
      "execution_count": null,
      "outputs": [
        {
          "output_type": "stream",
          "name": "stdout",
          "text": [
            "[  0 255]\n"
          ]
        }
      ]
    },
    {
      "cell_type": "code",
      "source": [
        "# Count pixels of value 0\n",
        "count_0 = np.count_nonzero(image_np == 0)\n",
        "# Count pixels of value 255\n",
        "count_255 = np.count_nonzero(image_np == 255)\n",
        "\n",
        "print(f\"Number of pixels with value 0: {count_0}\")\n",
        "print(f\"Number of pixels with value 255: {count_255}\")"
      ],
      "metadata": {
        "colab": {
          "base_uri": "https://localhost:8080/"
        },
        "id": "0po_un9_h365",
        "outputId": "d1fbf803-68a7-4561-e8c6-9453bbf5772d"
      },
      "execution_count": null,
      "outputs": [
        {
          "output_type": "stream",
          "name": "stdout",
          "text": [
            "Number of pixels with value 0: 1387003\n",
            "Number of pixels with value 255: 337157\n"
          ]
        }
      ]
    },
    {
      "cell_type": "code",
      "source": [
        "# Count number of pixels drawn by staple for each eval zone\n",
        "pixel_counts = []\n",
        "\n",
        "for file in os.listdir(STAPLE_PATH):\n",
        "    # Charger l'image avec numpy\n",
        "    image = np.array(Image.open(STAPLE_BIN_PATH + file))\n",
        "    # Calculer le nombre de pixels annotés\n",
        "    pixels = np.count_nonzero(image)\n",
        "    pixel_counts.append((file, pixels))"
      ],
      "metadata": {
        "id": "eyD9IOX1xlnR"
      },
      "execution_count": null,
      "outputs": []
    },
    {
      "cell_type": "code",
      "source": [
        "total_pixels_per_zone = 1920*898"
      ],
      "metadata": {
        "id": "OIHGJqhDfcO6"
      },
      "execution_count": null,
      "outputs": []
    },
    {
      "cell_type": "code",
      "source": [
        "# Afficher les résultats\n",
        "for file, pixels in pixel_counts:\n",
        "    print(f\"Image: {file}, Nombre de pixels annotés: {pixels}\")\n",
        "    print(f\"Ratio: {pixels/total_pixels_per_zone}\")\n",
        "    print()"
      ],
      "metadata": {
        "colab": {
          "base_uri": "https://localhost:8080/"
        },
        "id": "gTXEUtyqX7th",
        "outputId": "84f86db3-5429-4a4a-c6c8-fa85edcad748"
      },
      "execution_count": null,
      "outputs": [
        {
          "output_type": "stream",
          "name": "stdout",
          "text": [
            "Image: zone01_artificial.png, Nombre de pixels annotés: 11327\n",
            "Ratio: 0.006569575909428359\n",
            "\n",
            "Image: zone01_transport.png, Nombre de pixels annotés: 180982\n",
            "Ratio: 0.10496821640682999\n",
            "\n",
            "Image: zone01_urban.png, Nombre de pixels annotés: 120509\n",
            "Ratio: 0.06989432535263548\n",
            "\n",
            "Image: zone01_water.png, Nombre de pixels annotés: 92040\n",
            "Ratio: 0.053382516703786194\n",
            "\n",
            "Image: zone01_nature.png, Nombre de pixels annotés: 0\n",
            "Ratio: 0.0\n",
            "\n",
            "Image: zone01_all.png, Nombre de pixels annotés: 337157\n",
            "Ratio: 0.19554855697847068\n",
            "\n",
            "Image: zone02_artificial.png, Nombre de pixels annotés: 70247\n",
            "Ratio: 0.04074273849294729\n",
            "\n",
            "Image: zone02_transport.png, Nombre de pixels annotés: 179287\n",
            "Ratio: 0.10398512899034892\n",
            "\n",
            "Image: zone02_urban.png, Nombre de pixels annotés: 199693\n",
            "Ratio: 0.11582045749814403\n",
            "\n",
            "Image: zone02_water.png, Nombre de pixels annotés: 117984\n",
            "Ratio: 0.06842984409799555\n",
            "\n",
            "Image: zone02_nature.png, Nombre de pixels annotés: 64750\n",
            "Ratio: 0.03755451930215293\n",
            "\n",
            "Image: zone02_all.png, Nombre de pixels annotés: 388861\n",
            "Ratio: 0.2255364931328879\n",
            "\n",
            "Image: zone03_artificial.png, Nombre de pixels annotés: 6528\n",
            "Ratio: 0.0037861915367483298\n",
            "\n",
            "Image: zone03_transport.png, Nombre de pixels annotés: 320705\n",
            "Ratio: 0.1860065191165553\n",
            "\n",
            "Image: zone03_urban.png, Nombre de pixels annotés: 134664\n",
            "Ratio: 0.07810412026726057\n",
            "\n",
            "Image: zone03_water.png, Nombre de pixels annotés: 53407\n",
            "Ratio: 0.030975663511507052\n",
            "\n",
            "Image: zone03_nature.png, Nombre de pixels annotés: 0\n",
            "Ratio: 0.0\n",
            "\n",
            "Image: zone03_all.png, Nombre de pixels annotés: 460148\n",
            "Ratio: 0.266882423904974\n",
            "\n",
            "Image: zone04_artificial.png, Nombre de pixels annotés: 13896\n",
            "Ratio: 0.00805957683741648\n",
            "\n",
            "Image: zone04_transport.png, Nombre de pixels annotés: 210652\n",
            "Ratio: 0.12217659613956941\n",
            "\n",
            "Image: zone04_urban.png, Nombre de pixels annotés: 27461\n",
            "Ratio: 0.015927176132145508\n",
            "\n",
            "Image: zone04_water.png, Nombre de pixels annotés: 127211\n",
            "Ratio: 0.07378143559762435\n",
            "\n",
            "Image: zone04_nature.png, Nombre de pixels annotés: 0\n",
            "Ratio: 0.0\n",
            "\n",
            "Image: zone04_all.png, Nombre de pixels annotés: 295552\n",
            "Ratio: 0.17141796585003713\n",
            "\n",
            "Image: zone05_artificial.png, Nombre de pixels annotés: 213531\n",
            "Ratio: 0.12384639476614699\n",
            "\n",
            "Image: zone05_transport.png, Nombre de pixels annotés: 127061\n",
            "Ratio: 0.07369443671121009\n",
            "\n",
            "Image: zone05_urban.png, Nombre de pixels annotés: 20709\n",
            "Ratio: 0.012011066258351893\n",
            "\n",
            "Image: zone05_water.png, Nombre de pixels annotés: 96964\n",
            "Ratio: 0.0562384001484781\n",
            "\n",
            "Image: zone05_nature.png, Nombre de pixels annotés: 479995\n",
            "Ratio: 0.278393536562732\n",
            "\n",
            "Image: zone05_all.png, Nombre de pixels annotés: 316274\n",
            "Ratio: 0.18343657201187824\n",
            "\n",
            "Image: zone06_artificial.png, Nombre de pixels annotés: 9525\n",
            "Ratio: 0.005524429287305122\n",
            "\n",
            "Image: zone06_transport.png, Nombre de pixels annotés: 196008\n",
            "Ratio: 0.11368318485523385\n",
            "\n",
            "Image: zone06_urban.png, Nombre de pixels annotés: 76416\n",
            "Ratio: 0.04432071269487751\n",
            "\n",
            "Image: zone06_water.png, Nombre de pixels annotés: 0\n",
            "Ratio: 0.0\n",
            "\n",
            "Image: zone06_nature.png, Nombre de pixels annotés: 0\n",
            "Ratio: 0.0\n",
            "\n",
            "Image: zone06_all.png, Nombre de pixels annotés: 236856\n",
            "Ratio: 0.13737472160356348\n",
            "\n",
            "Image: zone07_artificial.png, Nombre de pixels annotés: 10216\n",
            "Ratio: 0.005925204157386786\n",
            "\n",
            "Image: zone07_transport.png, Nombre de pixels annotés: 164516\n",
            "Ratio: 0.0954180586488493\n",
            "\n",
            "Image: zone07_urban.png, Nombre de pixels annotés: 74193\n",
            "Ratio: 0.043031389198218264\n",
            "\n",
            "Image: zone07_water.png, Nombre de pixels annotés: 160061\n",
            "Ratio: 0.09283419172234596\n",
            "\n",
            "Image: zone07_nature.png, Nombre de pixels annotés: 0\n",
            "Ratio: 0.0\n",
            "\n",
            "Image: zone07_all.png, Nombre de pixels annotés: 282990\n",
            "Ratio: 0.1641320991091314\n",
            "\n",
            "Image: zone08_artificial.png, Nombre de pixels annotés: 22678\n",
            "Ratio: 0.013153071640682999\n",
            "\n",
            "Image: zone08_transport.png, Nombre de pixels annotés: 104872\n",
            "Ratio: 0.06082498144023756\n",
            "\n",
            "Image: zone08_urban.png, Nombre de pixels annotés: 0\n",
            "Ratio: 0.0\n",
            "\n",
            "Image: zone08_water.png, Nombre de pixels annotés: 66161\n",
            "Ratio: 0.03837288882702301\n",
            "\n",
            "Image: zone08_nature.png, Nombre de pixels annotés: 0\n",
            "Ratio: 0.0\n",
            "\n",
            "Image: zone08_all.png, Nombre de pixels annotés: 165664\n",
            "Ratio: 0.09608389012620638\n",
            "\n",
            "Image: zone09_artificial.png, Nombre de pixels annotés: 12876\n",
            "Ratio: 0.007467984409799555\n",
            "\n",
            "Image: zone09_transport.png, Nombre de pixels annotés: 189551\n",
            "Ratio: 0.10993817279138828\n",
            "\n",
            "Image: zone09_urban.png, Nombre de pixels annotés: 279563\n",
            "Ratio: 0.16214446455085374\n",
            "\n",
            "Image: zone09_water.png, Nombre de pixels annotés: 63769\n",
            "Ratio: 0.03698554658500371\n",
            "\n",
            "Image: zone09_nature.png, Nombre de pixels annotés: 0\n",
            "Ratio: 0.0\n",
            "\n",
            "Image: zone09_all.png, Nombre de pixels annotés: 277570\n",
            "Ratio: 0.16098853934669635\n",
            "\n",
            "Image: zone10_artificial.png, Nombre de pixels annotés: 4218\n",
            "Ratio: 0.0024464086859688197\n",
            "\n",
            "Image: zone10_transport.png, Nombre de pixels annotés: 146751\n",
            "Ratio: 0.08511449053452116\n",
            "\n",
            "Image: zone10_urban.png, Nombre de pixels annotés: 101146\n",
            "Ratio: 0.0586639291017075\n",
            "\n",
            "Image: zone10_water.png, Nombre de pixels annotés: 186583\n",
            "Ratio: 0.10821675482553823\n",
            "\n",
            "Image: zone10_nature.png, Nombre de pixels annotés: 0\n",
            "Ratio: 0.0\n",
            "\n",
            "Image: zone10_all.png, Nombre de pixels annotés: 346058\n",
            "Ratio: 0.20071107089829252\n",
            "\n",
            "Image: zone11_artificial.png, Nombre de pixels annotés: 1956\n",
            "Ratio: 0.0011344654788418708\n",
            "\n",
            "Image: zone11_transport.png, Nombre de pixels annotés: 161844\n",
            "Ratio: 0.09386831848552339\n",
            "\n",
            "Image: zone11_urban.png, Nombre de pixels annotés: 59999\n",
            "Ratio: 0.03479897457312547\n",
            "\n",
            "Image: zone11_water.png, Nombre de pixels annotés: 278082\n",
            "Ratio: 0.16128549554565702\n",
            "\n",
            "Image: zone11_nature.png, Nombre de pixels annotés: 122365\n",
            "Ratio: 0.07097079157386786\n",
            "\n",
            "Image: zone11_all.png, Nombre de pixels annotés: 314979\n",
            "Ratio: 0.1826854816258352\n",
            "\n",
            "Image: zone12_artificial.png, Nombre de pixels annotés: 6693\n",
            "Ratio: 0.003881890311804009\n",
            "\n",
            "Image: zone12_transport.png, Nombre de pixels annotés: 308708\n",
            "Ratio: 0.1790483481811433\n",
            "\n",
            "Image: zone12_urban.png, Nombre de pixels annotés: 31218\n",
            "Ratio: 0.01810620824053452\n",
            "\n",
            "Image: zone12_water.png, Nombre de pixels annotés: 123751\n",
            "Ratio: 0.07177466128433556\n",
            "\n",
            "Image: zone12_nature.png, Nombre de pixels annotés: 0\n",
            "Ratio: 0.0\n",
            "\n",
            "Image: zone12_all.png, Nombre de pixels annotés: 395272\n",
            "Ratio: 0.22925482553823312\n",
            "\n",
            "Image: zone13_artificial.png, Nombre de pixels annotés: 7557\n",
            "Ratio: 0.004383003897550111\n",
            "\n",
            "Image: zone13_transport.png, Nombre de pixels annotés: 132400\n",
            "Ratio: 0.07679101707498144\n",
            "\n",
            "Image: zone13_urban.png, Nombre de pixels annotés: 55718\n",
            "Ratio: 0.03231602635486266\n",
            "\n",
            "Image: zone13_water.png, Nombre de pixels annotés: 32069\n",
            "Ratio: 0.018599781922791388\n",
            "\n",
            "Image: zone13_nature.png, Nombre de pixels annotés: 394664\n",
            "Ratio: 0.22890219005196732\n",
            "\n",
            "Image: zone13_all.png, Nombre de pixels annotés: 275438\n",
            "Ratio: 0.15975199517446176\n",
            "\n",
            "Image: zone14_artificial.png, Nombre de pixels annotés: 4864\n",
            "Ratio: 0.0028210838901262065\n",
            "\n",
            "Image: zone14_transport.png, Nombre de pixels annotés: 194821\n",
            "Ratio: 0.11299473366740906\n",
            "\n",
            "Image: zone14_urban.png, Nombre de pixels annotés: 31007\n",
            "Ratio: 0.01798382980697847\n",
            "\n",
            "Image: zone14_water.png, Nombre de pixels annotés: 62179\n",
            "Ratio: 0.03606335838901262\n",
            "\n",
            "Image: zone14_nature.png, Nombre de pixels annotés: 386469\n",
            "Ratio: 0.2241491508908686\n",
            "\n",
            "Image: zone14_all.png, Nombre de pixels annotés: 611087\n",
            "Ratio: 0.3544259233481811\n",
            "\n",
            "Image: zone15_artificial.png, Nombre de pixels annotés: 7161\n",
            "Ratio: 0.004153326837416481\n",
            "\n",
            "Image: zone15_transport.png, Nombre de pixels annotés: 131960\n",
            "Ratio: 0.07653582034149962\n",
            "\n",
            "Image: zone15_urban.png, Nombre de pixels annotés: 140059\n",
            "Ratio: 0.08123318021529324\n",
            "\n",
            "Image: zone15_water.png, Nombre de pixels annotés: 276345\n",
            "Ratio: 0.16027804844097995\n",
            "\n",
            "Image: zone15_nature.png, Nombre de pixels annotés: 0\n",
            "Ratio: 0.0\n",
            "\n",
            "Image: zone15_all.png, Nombre de pixels annotés: 401741\n",
            "Ratio: 0.23300679751299183\n",
            "\n",
            "Image: zone16_artificial.png, Nombre de pixels annotés: 7998\n",
            "Ratio: 0.004638780623608018\n",
            "\n",
            "Image: zone16_transport.png, Nombre de pixels annotés: 200276\n",
            "Ratio: 0.11615859317000743\n",
            "\n",
            "Image: zone16_urban.png, Nombre de pixels annotés: 179829\n",
            "Ratio: 0.10429948496659243\n",
            "\n",
            "Image: zone16_water.png, Nombre de pixels annotés: 0\n",
            "Ratio: 0.0\n",
            "\n",
            "Image: zone16_nature.png, Nombre de pixels annotés: 0\n",
            "Ratio: 0.0\n",
            "\n",
            "Image: zone16_all.png, Nombre de pixels annotés: 193355\n",
            "Ratio: 0.11214446455085375\n",
            "\n",
            "Image: zone17_artificial.png, Nombre de pixels annotés: 2231\n",
            "Ratio: 0.001293963437268003\n",
            "\n",
            "Image: zone17_transport.png, Nombre de pixels annotés: 232284\n",
            "Ratio: 0.134722995545657\n",
            "\n",
            "Image: zone17_urban.png, Nombre de pixels annotés: 192648\n",
            "Ratio: 0.11173440979955457\n",
            "\n",
            "Image: zone17_water.png, Nombre de pixels annotés: 0\n",
            "Ratio: 0.0\n",
            "\n",
            "Image: zone17_nature.png, Nombre de pixels annotés: 0\n",
            "Ratio: 0.0\n",
            "\n",
            "Image: zone17_all.png, Nombre de pixels annotés: 423951\n",
            "Ratio: 0.24588843262806237\n",
            "\n",
            "Image: zone18_artificial.png, Nombre de pixels annotés: 17066\n",
            "Ratio: 0.009898153303637714\n",
            "\n",
            "Image: zone18_transport.png, Nombre de pixels annotés: 368631\n",
            "Ratio: 0.21380324331848552\n",
            "\n",
            "Image: zone18_urban.png, Nombre de pixels annotés: 80254\n",
            "Ratio: 0.04654672420193021\n",
            "\n",
            "Image: zone18_water.png, Nombre de pixels annotés: 0\n",
            "Ratio: 0.0\n",
            "\n",
            "Image: zone18_nature.png, Nombre de pixels annotés: 0\n",
            "Ratio: 0.0\n",
            "\n",
            "Image: zone18_all.png, Nombre de pixels annotés: 394932\n",
            "Ratio: 0.2290576280623608\n",
            "\n",
            "Image: zone19_artificial.png, Nombre de pixels annotés: 84710\n",
            "Ratio: 0.04913117112100965\n",
            "\n",
            "Image: zone19_transport.png, Nombre de pixels annotés: 71026\n",
            "Ratio: 0.041194552709725316\n",
            "\n",
            "Image: zone19_urban.png, Nombre de pixels annotés: 398688\n",
            "Ratio: 0.2312360801781737\n",
            "\n",
            "Image: zone19_water.png, Nombre de pixels annotés: 287511\n",
            "Ratio: 0.16675424554565701\n",
            "\n",
            "Image: zone19_nature.png, Nombre de pixels annotés: 330945\n",
            "Ratio: 0.19194564309576836\n",
            "\n",
            "Image: zone19_all.png, Nombre de pixels annotés: 572576\n",
            "Ratio: 0.3320898292501856\n",
            "\n",
            "Image: zone20_artificial.png, Nombre de pixels annotés: 10579\n",
            "Ratio: 0.00613574146250928\n",
            "\n",
            "Image: zone20_transport.png, Nombre de pixels annotés: 82460\n",
            "Ratio: 0.04782618782479584\n",
            "\n",
            "Image: zone20_urban.png, Nombre de pixels annotés: 43232\n",
            "Ratio: 0.025074239049740165\n",
            "\n",
            "Image: zone20_water.png, Nombre de pixels annotés: 3435\n",
            "Ratio: 0.0019922744988864144\n",
            "\n",
            "Image: zone20_nature.png, Nombre de pixels annotés: 0\n",
            "Ratio: 0.0\n",
            "\n",
            "Image: zone20_all.png, Nombre de pixels annotés: 108027\n",
            "Ratio: 0.06265485801781737\n",
            "\n"
          ]
        }
      ]
    }
  ]
}